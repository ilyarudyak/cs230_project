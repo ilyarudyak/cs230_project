{
 "cells": [
  {
   "cell_type": "code",
   "execution_count": 20,
   "metadata": {},
   "outputs": [
    {
     "name": "stdout",
     "output_type": "stream",
     "text": [
      "random seed (note down for reproducibility): 42\n"
     ]
    }
   ],
   "source": [
    "import torch\n",
    "import tables\n",
    "\n",
    "import os,sys\n",
    "import glob\n",
    "\n",
    "import PIL\n",
    "import numpy as np\n",
    "\n",
    "import cv2\n",
    "import matplotlib.pyplot as plt\n",
    "\n",
    "from sklearn import model_selection\n",
    "import sklearn.feature_extraction.image\n",
    "import random\n",
    "\n",
    "\n",
    "seed = 42\n",
    "random.seed(seed) # set the seed\n",
    "print(f\"random seed (note down for reproducibility): {seed}\")"
   ]
  },
  {
   "cell_type": "code",
   "execution_count": 21,
   "metadata": {
    "lines_to_next_cell": 2
   },
   "outputs": [],
   "source": [
    "#v2\n",
    "#7/11/2018\n",
    "\n",
    "dataname=\"epistroma\"\n",
    "\n",
    "patch_size=500 #size of the tiles to extract and save in the database, must be >= to training size\n",
    "stride_size=250 #distance to skip between patches, 1 indicated pixel wise extraction, patch_size would result in non-overlapping tiles\n",
    "mirror_pad_size=250 # number of pixels to pad *after* resize to image with by mirroring (edge's of patches tend not to be analyzed well, so padding allows them to appear more centered in the patch)\n",
    "test_set_size=.1 # what percentage of the dataset should be used as a held out validation/testing set\n",
    "resize=1 #resize input images\n",
    "classes=[0, 1] #what classes we expect to have in the data, here we have only 2 classes but we could add additional classes and/or specify an index from which we would like to ignore\n",
    "\n",
    "#-----Note---\n",
    "#One should likely make sure that  (nrow+mirror_pad_size) mod patch_size == 0, where nrow is the number of rows after resizing\n",
    "#so that no pixels are lost (any remainer is ignored)\n"
   ]
  },
  {
   "cell_type": "code",
   "execution_count": 22,
   "metadata": {},
   "outputs": [],
   "source": [
    "# dtype in which the images will be saved, \n",
    "# this indicates that images will be saved as unsigned int 8 bit, i.e., [0,255]\n",
    "img_dtype = tables.UInt8Atom()"
   ]
  },
  {
   "cell_type": "code",
   "execution_count": 23,
   "metadata": {},
   "outputs": [],
   "source": [
    "# create an atom to store the filename of the image, \n",
    "# just incase we need it later, \n",
    "filenameAtom = tables.StringAtom(itemsize=255) "
   ]
  },
  {
   "cell_type": "markdown",
   "metadata": {},
   "source": [
    "### list of mask files "
   ]
  },
  {
   "cell_type": "code",
   "execution_count": 8,
   "metadata": {},
   "outputs": [],
   "source": [
    "# create a list of the files, in this case \n",
    "# we're only interested in files which have masks so\n",
    "files=glob.glob('/Users/ilyarudyak/data/epi/masks/*.png') "
   ]
  },
  {
   "cell_type": "code",
   "execution_count": 10,
   "metadata": {},
   "outputs": [
    {
     "data": {
      "text/plain": [
       "['/Users/ilyarudyak/data/epi/masks/12884_00018_mask.png',\n",
       " '/Users/ilyarudyak/data/epi/masks/10264_00056_mask.png',\n",
       " '/Users/ilyarudyak/data/epi/masks/12867_00005_mask.png',\n",
       " '/Users/ilyarudyak/data/epi/masks/12929_00017_mask.png',\n",
       " '/Users/ilyarudyak/data/epi/masks/10291_00012_mask.png']"
      ]
     },
     "execution_count": 10,
     "metadata": {},
     "output_type": "execute_result"
    }
   ],
   "source": [
    "files[:5]"
   ]
  },
  {
   "cell_type": "code",
   "execution_count": 11,
   "metadata": {},
   "outputs": [
    {
     "data": {
      "text/plain": [
       "42"
      ]
     },
     "execution_count": 11,
     "metadata": {},
     "output_type": "execute_result"
    }
   ],
   "source": [
    "len(files)"
   ]
  },
  {
   "cell_type": "code",
   "execution_count": 12,
   "metadata": {},
   "outputs": [
    {
     "name": "stdout",
     "output_type": "stream",
     "text": [
      "      42\r\n"
     ]
    }
   ],
   "source": [
    "!ls /Users/ilyarudyak/data/epi/masks/ | wc -l"
   ]
  },
  {
   "cell_type": "markdown",
   "metadata": {},
   "source": [
    "### create training and validation stages"
   ]
  },
  {
   "cell_type": "code",
   "execution_count": 13,
   "metadata": {},
   "outputs": [],
   "source": [
    "phases={}\n",
    "phases[\"train\"], phases[\"val\"] = next(iter(model_selection.ShuffleSplit(\n",
    "    n_splits=1,test_size=test_set_size).split(files)))"
   ]
  },
  {
   "cell_type": "code",
   "execution_count": 15,
   "metadata": {},
   "outputs": [
    {
     "data": {
      "text/plain": [
       "array([20,  3, 16, 21, 31, 39, 26, 34,  9, 15, 36, 13,  0, 40, 25, 41, 28,\n",
       "       12, 23, 30, 22, 19,  1,  8, 35, 17, 24, 11, 32,  4, 14, 38, 10, 37,\n",
       "        7, 27, 18])"
      ]
     },
     "execution_count": 15,
     "metadata": {},
     "output_type": "execute_result"
    }
   ],
   "source": [
    "phases['train']"
   ]
  },
  {
   "cell_type": "code",
   "execution_count": 16,
   "metadata": {},
   "outputs": [
    {
     "data": {
      "text/plain": [
       "array([33,  2, 29,  6,  5])"
      ]
     },
     "execution_count": 16,
     "metadata": {},
     "output_type": "execute_result"
    }
   ],
   "source": [
    "phases['val']"
   ]
  },
  {
   "cell_type": "code",
   "execution_count": 24,
   "metadata": {},
   "outputs": [],
   "source": [
    "#specify that we'll be saving 2 different image types to the database, \n",
    "# an image and its associated masked\n",
    "imgtypes=[\"img\", \"mask\"]"
   ]
  },
  {
   "cell_type": "markdown",
   "metadata": {},
   "source": [
    "### main loop"
   ]
  },
  {
   "cell_type": "code",
   "execution_count": 26,
   "metadata": {},
   "outputs": [],
   "source": [
    "#holder for future pytables\n",
    "storage = {} "
   ]
  },
  {
   "cell_type": "code",
   "execution_count": 28,
   "metadata": {},
   "outputs": [],
   "source": [
    "# block shape specifies what we'll be saving into the pytable array, \n",
    "# here we assume that masks are 2d and images are 3d\n",
    "block_shape = {} \n",
    "block_shape[\"img\"] = np.array((patch_size, patch_size, 3))\n",
    "block_shape[\"mask\"] = np.array((patch_size, patch_size)) "
   ]
  },
  {
   "cell_type": "code",
   "execution_count": 29,
   "metadata": {},
   "outputs": [
    {
     "data": {
      "text/plain": [
       "{'img': array([500, 500,   3]), 'mask': array([500, 500])}"
      ]
     },
     "execution_count": 29,
     "metadata": {},
     "output_type": "execute_result"
    }
   ],
   "source": [
    "block_shape"
   ]
  },
  {
   "cell_type": "code",
   "execution_count": 30,
   "metadata": {},
   "outputs": [],
   "source": [
    "# we can also specify filters, such as compression, to improve storage speed\n",
    "filters=tables.Filters(complevel=6, complib='zlib') "
   ]
  },
  {
   "cell_type": "code",
   "execution_count": 31,
   "metadata": {},
   "outputs": [
    {
     "data": {
      "text/plain": [
       "dict_keys(['train', 'val'])"
      ]
     },
     "execution_count": 31,
     "metadata": {},
     "output_type": "execute_result"
    }
   ],
   "source": [
    "phases.keys()"
   ]
  },
  {
   "cell_type": "code",
   "execution_count": 45,
   "metadata": {
    "scrolled": true
   },
   "outputs": [
    {
     "name": "stdout",
     "output_type": "stream",
     "text": [
      "train\n",
      "/Users/ilyarudyak/data/epi/masks/12907_00003_mask.png\n",
      "/Users/ilyarudyak/data/epi/masks/12929_00017_mask.png\n",
      "/Users/ilyarudyak/data/epi/masks/12909_00003_mask.png\n",
      "/Users/ilyarudyak/data/epi/masks/12820_00005_mask.png\n",
      "/Users/ilyarudyak/data/epi/masks/9043_00045_mask.png\n",
      "/Users/ilyarudyak/data/epi/masks/12930_00008_mask.png\n",
      "/Users/ilyarudyak/data/epi/masks/9346_00019_mask.png\n",
      "/Users/ilyarudyak/data/epi/masks/8975_00017_mask.png\n",
      "/Users/ilyarudyak/data/epi/masks/9250_00025_mask.png\n",
      "/Users/ilyarudyak/data/epi/masks/10295_00012_mask.png\n",
      "/Users/ilyarudyak/data/epi/masks/12826_00003_mask.png\n",
      "/Users/ilyarudyak/data/epi/masks/8974_00014_mask.png\n",
      "/Users/ilyarudyak/data/epi/masks/12884_00018_mask.png\n",
      "/Users/ilyarudyak/data/epi/masks/10260_00022_mask.png\n",
      "/Users/ilyarudyak/data/epi/masks/12818_00006_mask.png\n",
      "/Users/ilyarudyak/data/epi/masks/10282_00016_mask.png\n",
      "/Users/ilyarudyak/data/epi/masks/8951_00005_mask.png\n",
      "/Users/ilyarudyak/data/epi/masks/10304_00005_mask.png\n",
      "/Users/ilyarudyak/data/epi/masks/10279_00049_mask.png\n",
      "/Users/ilyarudyak/data/epi/masks/8918_00007_mask.png\n",
      "/Users/ilyarudyak/data/epi/masks/12947_00004_mask.png\n",
      "/Users/ilyarudyak/data/epi/masks/12875_00002_mask.png\n",
      "/Users/ilyarudyak/data/epi/masks/10264_00056_mask.png\n",
      "/Users/ilyarudyak/data/epi/masks/12881_00009_mask.png\n",
      "/Users/ilyarudyak/data/epi/masks/10308_00048_mask.png\n",
      "/Users/ilyarudyak/data/epi/masks/12911_00005_mask.png\n",
      "/Users/ilyarudyak/data/epi/masks/8957_00005_mask.png\n",
      "/Users/ilyarudyak/data/epi/masks/12626_00016_mask.png\n",
      "/Users/ilyarudyak/data/epi/masks/12880_00001_mask.png\n",
      "/Users/ilyarudyak/data/epi/masks/10291_00012_mask.png\n",
      "/Users/ilyarudyak/data/epi/masks/10261_00002_mask.png\n",
      "/Users/ilyarudyak/data/epi/masks/10278_00006_mask.png\n",
      "/Users/ilyarudyak/data/epi/masks/9227_00006_mask.png\n",
      "/Users/ilyarudyak/data/epi/masks/10293_00011_mask.png\n",
      "/Users/ilyarudyak/data/epi/masks/12819_00004_mask.png\n",
      "/Users/ilyarudyak/data/epi/masks/10285_00007_mask.png\n",
      "/Users/ilyarudyak/data/epi/masks/9023_00012_mask.png\n",
      "val\n",
      "/Users/ilyarudyak/data/epi/masks/12932_00003_mask.png\n",
      "/Users/ilyarudyak/data/epi/masks/12867_00005_mask.png\n",
      "/Users/ilyarudyak/data/epi/masks/10302_00098_mask.png\n",
      "/Users/ilyarudyak/data/epi/masks/10288_00003_mask.png\n",
      "/Users/ilyarudyak/data/epi/masks/10286_00014_mask.png\n"
     ]
    }
   ],
   "source": [
    "# now for each of the phases, we'll loop through the files\n",
    "for phase in phases.keys(): \n",
    "    print(phase)\n",
    "    \n",
    "    totals = np.zeros((2, len(classes))) \n",
    "    totals[0, :] = classes               \n",
    "\n",
    "    # open the respective pytable\n",
    "    hdf5_file = tables.open_file(f\"/Users/ilyarudyak/data/epi/{dataname}_{phase}.pytable\", mode='w') \n",
    "    \n",
    "    # create the array for storage\n",
    "    storage[\"filename\"] = hdf5_file.create_earray(hdf5_file.root, 'filename', filenameAtom, (0,)) \n",
    "    \n",
    "    # for each of the image types, \n",
    "    # in this case mask and image, we need to create the associated earray\n",
    "    for imgtype in imgtypes: \n",
    "        storage[imgtype]= hdf5_file.create_earray(hdf5_file.root, imgtype, img_dtype,  \n",
    "                                                  shape=np.append([0],block_shape[imgtype]), \n",
    "                                                  chunkshape=np.append([1],block_shape[imgtype]),\n",
    "                                                  filters=filters)\n",
    "    # now for each of the files\n",
    "    for filei in phases[phase]: \n",
    "        fname = files[filei] \n",
    "        print(fname)\n",
    "        \n",
    "        for imgtype in imgtypes:\n",
    "            if(imgtype==\"img\"): #if we're looking at an img, it must be 3 channel, but cv2 won't load it in the correct channel order, so we need to fix that\n",
    "                io = cv2.cvtColor(cv2.imread(\"/Users/ilyarudyak/data/epi/images/\" + os.path.basename(fname).replace(\"_mask.png\",\".tif\")), cv2.COLOR_BGR2RGB)\n",
    "                interp_method=PIL.Image.BICUBIC\n",
    "                \n",
    "            else: #if its a mask image, then we only need a single channel (since grayscale 3D images are equal in all channels)\n",
    "                io = cv2.imread(fname)/255 #the image is loaded as {0,255}, but we'd like to store it as {0,1} since this represents the binary nature of the mask easier\n",
    "                interp_method = PIL.Image.NEAREST #want to use nearest! otherwise resizing may cause non-existing classes to be produced via interpolation (e.g., \".25\")\n",
    "                \n",
    "                for i,key in enumerate(classes): #sum the number of pixels, this is done pre-resize, the but proportions don't change which is really what we're after\n",
    "                    totals[1,i] += sum(sum(io[:,:,0]==key))\n",
    "\n",
    "            \n",
    "            io = cv2.resize(io,(0,0),fx=resize,fy=resize, interpolation=interp_method) #resize it as specified above\n",
    "            io = np.pad(io, [(mirror_pad_size, mirror_pad_size), (mirror_pad_size, mirror_pad_size), (0, 0)], mode=\"reflect\")\n",
    "\n",
    "            # convert input image into overlapping tiles, size is ntiler x ntilec x 1 x patch_size x patch_size x3\n",
    "            io_arr_out=sklearn.feature_extraction.image.extract_patches(io,(patch_size,patch_size,3),stride_size)\n",
    "            \n",
    "            # resize it into a ntile x patch_size x patch_size x 3\n",
    "            io_arr_out=io_arr_out.reshape(-1,patch_size,patch_size,3)\n",
    "            \n",
    "            \n",
    "            \n",
    "            #save the 4D tensor to the table\n",
    "            if(imgtype==\"img\"):\n",
    "                storage[imgtype].append(io_arr_out)\n",
    "            else:\n",
    "                storage[imgtype].append(io_arr_out[:,:,:,0].squeeze()) #only need 1 channel for mask data\n",
    "\n",
    "        storage[\"filename\"].append([fname for x in range(io_arr_out.shape[0])]) #add the filename to the storage array\n",
    "        \n",
    "    #lastly, we should store the number of pixels\n",
    "    npixels=hdf5_file.create_carray(hdf5_file.root, 'numpixels', tables.Atom.from_dtype(totals.dtype), totals.shape)\n",
    "    npixels[:]=totals\n",
    "    hdf5_file.close()"
   ]
  },
  {
   "cell_type": "markdown",
   "metadata": {
    "lines_to_next_cell": 2
   },
   "source": [
    "useful reference\n",
    "http://machinelearninguru.com/deep_learning/data_preparation/hdf5/hdf5.html"
   ]
  }
 ],
 "metadata": {
  "jupytext": {
   "formats": "ipynb,py:light"
  },
  "kernelspec": {
   "display_name": "Python 3",
   "language": "python",
   "name": "python3"
  },
  "language_info": {
   "codemirror_mode": {
    "name": "ipython",
    "version": 3
   },
   "file_extension": ".py",
   "mimetype": "text/x-python",
   "name": "python",
   "nbconvert_exporter": "python",
   "pygments_lexer": "ipython3",
   "version": "3.6.9"
  }
 },
 "nbformat": 4,
 "nbformat_minor": 2
}
