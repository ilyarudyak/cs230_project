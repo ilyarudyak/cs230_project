{
 "cells": [
  {
   "cell_type": "code",
   "execution_count": 1,
   "metadata": {},
   "outputs": [],
   "source": [
    "import torch\n",
    "from torch.autograd import Variable\n",
    "from torch.utils.data import DataLoader\n",
    "import torch.nn.functional as F\n",
    "import numpy as np"
   ]
  },
  {
   "cell_type": "code",
   "execution_count": 2,
   "metadata": {},
   "outputs": [],
   "source": [
    "class Trainer:\n",
    "    \n",
    "    def __init__(self, model):\n",
    "        self.model = model\n",
    "\n",
    "    def fit_generator(self, dataset, criterion, optimizer, n_epochs=1, batch_size=1, shuffle=False):\n",
    "        loss_history = []\n",
    "                \n",
    "        loader = DataLoader(dataset, batch_size=batch_size, shuffle=shuffle)\n",
    "        \n",
    "        for epoch in range(n_epochs):\n",
    "            running_loss = 0.0\n",
    "            \n",
    "            print('Epoch : {}/{}'.format(epoch + 1, n_epochs))\n",
    "            print('-'*10)\n",
    "            \n",
    "            for batch, (data, target) in enumerate(loader):\n",
    "                data, target = Variable(data.cuda()), Variable(target.cuda())\n",
    "                \n",
    "                optimizer.zero_grad()\n",
    "                output = self.model(data)\n",
    "                loss = criterion(output, target)\n",
    "                running_loss += loss.item()\n",
    "                \n",
    "                if (batch % 10) == 9:\n",
    "                    print('\\tBatch : {}/{}\\tLoss : {:.4f}'.format(batch+1, len(loader), loss.item()))\n",
    "                \n",
    "                loss.backward()\n",
    "                optimizer.step()\n",
    "            \n",
    "            loss_history.append(running_loss/len(loader))\n",
    "        return loss_history\n",
    "\n",
    "    def predict(self, x):\n",
    "        if isinstance(x, np.ndarray):\n",
    "            x = torch.from_numpy(x)\n",
    "        x = Variable(x.unsqueeze(0).cuda())\n",
    "        output = F.sigmoid(self.model(x)).data.cpu()\n",
    "        return output.numpy()\n",
    "\n",
    "    def predict_generator(self, dataset, batch_size=1):\n",
    "        predictions = []\n",
    "        loader = DataLoader(dataset, batch_size=batch_size)\n",
    "        for batch, (data, target) in enumerate(loader):\n",
    "            data = Variable(data.cuda())\n",
    "            outputs = self.model(data)\n",
    "            for prediction in outputs:\n",
    "                predictions.append(F.sigmoid(prediction).data.cpu().numpy())\n",
    "        return np.array(predictions)"
   ]
  }
 ],
 "metadata": {
  "kernelspec": {
   "display_name": "Python 3",
   "language": "python",
   "name": "python3"
  },
  "language_info": {
   "codemirror_mode": {
    "name": "ipython",
    "version": 3
   },
   "file_extension": ".py",
   "mimetype": "text/x-python",
   "name": "python",
   "nbconvert_exporter": "python",
   "pygments_lexer": "ipython3",
   "version": "3.6.5"
  }
 },
 "nbformat": 4,
 "nbformat_minor": 2
}
