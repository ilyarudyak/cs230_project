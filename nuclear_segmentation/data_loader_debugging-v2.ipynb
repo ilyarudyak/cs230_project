{
 "cells": [
  {
   "cell_type": "code",
   "execution_count": 8,
   "metadata": {},
   "outputs": [
    {
     "name": "stdout",
     "output_type": "stream",
     "text": [
      "The autoreload extension is already loaded. To reload it, use:\n",
      "  %reload_ext autoreload\n"
     ]
    }
   ],
   "source": [
    "from tifffile import TiffFile\n",
    "from torch.utils.data import Dataset\n",
    "import numpy as np\n",
    "from pathlib import Path\n",
    "import matplotlib.pyplot as plt\n",
    "# from model.data_loader import *\n",
    "from utils import *\n",
    "from argparse import Namespace\n",
    "from PIL import Image\n",
    "\n",
    "%load_ext autoreload\n",
    "%autoreload 2\n",
    "%matplotlib inline"
   ]
  },
  {
   "cell_type": "code",
   "execution_count": 7,
   "metadata": {},
   "outputs": [],
   "source": [
    "data_dir = Path.home() / 'data/isbi2012/pngs'\n",
    "args = Namespace(\n",
    "    path_img_train=data_dir / 'train/images',\n",
    "    path_target_train=data_dir / 'train/masks',\n",
    "    path_img_val=data_dir / 'val/images',\n",
    "    path_target_val=data_dir / 'val/masks',\n",
    "    path_img_test=data_dir / 'test/images',\n",
    "    TRAIN='train',\n",
    "    VAL='val',\n",
    "    TEST='test'\n",
    ")"
   ]
  },
  {
   "cell_type": "code",
   "execution_count": 10,
   "metadata": {},
   "outputs": [],
   "source": [
    "images = [Image.open(f) for f in args.path_img_train.glob('*')]"
   ]
  },
  {
   "cell_type": "code",
   "execution_count": 12,
   "metadata": {},
   "outputs": [
    {
     "data": {
      "text/plain": [
       "27"
      ]
     },
     "execution_count": 12,
     "metadata": {},
     "output_type": "execute_result"
    }
   ],
   "source": [
    "len(images)"
   ]
  },
  {
   "cell_type": "code",
   "execution_count": 14,
   "metadata": {},
   "outputs": [
    {
     "data": {
      "text/plain": [
       "[PosixPath('/Users/ilyarudyak/data/isbi2012/pngs/train/images/8.png'),\n",
       " PosixPath('/Users/ilyarudyak/data/isbi2012/pngs/train/images/9.png'),\n",
       " PosixPath('/Users/ilyarudyak/data/isbi2012/pngs/train/images/14.png'),\n",
       " PosixPath('/Users/ilyarudyak/data/isbi2012/pngs/train/images/15.png'),\n",
       " PosixPath('/Users/ilyarudyak/data/isbi2012/pngs/train/images/17.png'),\n",
       " PosixPath('/Users/ilyarudyak/data/isbi2012/pngs/train/images/16.png'),\n",
       " PosixPath('/Users/ilyarudyak/data/isbi2012/pngs/train/images/12.png'),\n",
       " PosixPath('/Users/ilyarudyak/data/isbi2012/pngs/train/images/13.png'),\n",
       " PosixPath('/Users/ilyarudyak/data/isbi2012/pngs/train/images/11.png'),\n",
       " PosixPath('/Users/ilyarudyak/data/isbi2012/pngs/train/images/10.png'),\n",
       " PosixPath('/Users/ilyarudyak/data/isbi2012/pngs/train/images/21.png'),\n",
       " PosixPath('/Users/ilyarudyak/data/isbi2012/pngs/train/images/20.png'),\n",
       " PosixPath('/Users/ilyarudyak/data/isbi2012/pngs/train/images/22.png'),\n",
       " PosixPath('/Users/ilyarudyak/data/isbi2012/pngs/train/images/23.png'),\n",
       " PosixPath('/Users/ilyarudyak/data/isbi2012/pngs/train/images/26.png'),\n",
       " PosixPath('/Users/ilyarudyak/data/isbi2012/pngs/train/images/18.png'),\n",
       " PosixPath('/Users/ilyarudyak/data/isbi2012/pngs/train/images/24.png'),\n",
       " PosixPath('/Users/ilyarudyak/data/isbi2012/pngs/train/images/25.png'),\n",
       " PosixPath('/Users/ilyarudyak/data/isbi2012/pngs/train/images/19.png'),\n",
       " PosixPath('/Users/ilyarudyak/data/isbi2012/pngs/train/images/4.png'),\n",
       " PosixPath('/Users/ilyarudyak/data/isbi2012/pngs/train/images/5.png'),\n",
       " PosixPath('/Users/ilyarudyak/data/isbi2012/pngs/train/images/7.png'),\n",
       " PosixPath('/Users/ilyarudyak/data/isbi2012/pngs/train/images/6.png'),\n",
       " PosixPath('/Users/ilyarudyak/data/isbi2012/pngs/train/images/2.png'),\n",
       " PosixPath('/Users/ilyarudyak/data/isbi2012/pngs/train/images/3.png'),\n",
       " PosixPath('/Users/ilyarudyak/data/isbi2012/pngs/train/images/1.png'),\n",
       " PosixPath('/Users/ilyarudyak/data/isbi2012/pngs/train/images/0.png')]"
      ]
     },
     "execution_count": 14,
     "metadata": {},
     "output_type": "execute_result"
    }
   ],
   "source": [
    "list(args.path_img_train.glob('*'))"
   ]
  },
  {
   "cell_type": "code",
   "execution_count": null,
   "metadata": {},
   "outputs": [],
   "source": []
  },
  {
   "cell_type": "code",
   "execution_count": null,
   "metadata": {},
   "outputs": [],
   "source": []
  },
  {
   "cell_type": "code",
   "execution_count": null,
   "metadata": {},
   "outputs": [],
   "source": []
  },
  {
   "cell_type": "code",
   "execution_count": null,
   "metadata": {},
   "outputs": [],
   "source": []
  },
  {
   "cell_type": "code",
   "execution_count": null,
   "metadata": {},
   "outputs": [],
   "source": []
  },
  {
   "cell_type": "code",
   "execution_count": null,
   "metadata": {},
   "outputs": [],
   "source": []
  },
  {
   "cell_type": "code",
   "execution_count": null,
   "metadata": {},
   "outputs": [],
   "source": []
  },
  {
   "cell_type": "code",
   "execution_count": null,
   "metadata": {},
   "outputs": [],
   "source": []
  },
  {
   "cell_type": "code",
   "execution_count": null,
   "metadata": {},
   "outputs": [],
   "source": []
  },
  {
   "cell_type": "code",
   "execution_count": null,
   "metadata": {},
   "outputs": [],
   "source": []
  },
  {
   "cell_type": "code",
   "execution_count": null,
   "metadata": {},
   "outputs": [],
   "source": []
  },
  {
   "cell_type": "code",
   "execution_count": null,
   "metadata": {},
   "outputs": [],
   "source": []
  },
  {
   "cell_type": "code",
   "execution_count": null,
   "metadata": {},
   "outputs": [],
   "source": []
  },
  {
   "cell_type": "code",
   "execution_count": null,
   "metadata": {},
   "outputs": [],
   "source": []
  },
  {
   "cell_type": "code",
   "execution_count": null,
   "metadata": {},
   "outputs": [],
   "source": []
  },
  {
   "cell_type": "code",
   "execution_count": null,
   "metadata": {},
   "outputs": [],
   "source": []
  },
  {
   "cell_type": "code",
   "execution_count": null,
   "metadata": {},
   "outputs": [],
   "source": []
  },
  {
   "cell_type": "code",
   "execution_count": null,
   "metadata": {},
   "outputs": [],
   "source": []
  },
  {
   "cell_type": "code",
   "execution_count": null,
   "metadata": {},
   "outputs": [],
   "source": []
  },
  {
   "cell_type": "code",
   "execution_count": null,
   "metadata": {},
   "outputs": [],
   "source": []
  },
  {
   "cell_type": "code",
   "execution_count": null,
   "metadata": {},
   "outputs": [],
   "source": []
  }
 ],
 "metadata": {
  "kernelspec": {
   "display_name": "Python 3",
   "language": "python",
   "name": "python3"
  },
  "language_info": {
   "codemirror_mode": {
    "name": "ipython",
    "version": 3
   },
   "file_extension": ".py",
   "mimetype": "text/x-python",
   "name": "python",
   "nbconvert_exporter": "python",
   "pygments_lexer": "ipython3",
   "version": "3.6.9"
  }
 },
 "nbformat": 4,
 "nbformat_minor": 2
}
