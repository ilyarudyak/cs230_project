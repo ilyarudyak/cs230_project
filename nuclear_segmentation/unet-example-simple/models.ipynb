{
 "cells": [
  {
   "cell_type": "code",
   "execution_count": 1,
   "metadata": {},
   "outputs": [],
   "source": [
    "import torch\n",
    "import torch.nn as nn\n",
    "import torch.nn.functional as F"
   ]
  },
  {
   "cell_type": "code",
   "execution_count": 2,
   "metadata": {},
   "outputs": [],
   "source": [
    "class ConvBlock(nn.Module):\n",
    "    def __init__(self, in_channels, out_channels):\n",
    "        super(ConvBlock, self).__init__()\n",
    "        self.batch_norm = nn.BatchNorm2d(out_channels)\n",
    "        self.conv1 = nn.Conv2d(in_channels, out_channels, kernel_size=3, padding=1)\n",
    "        self.conv2 = nn.Conv2d(out_channels, out_channels, kernel_size=3, padding=1)\n",
    "        \n",
    "    def forward(self, x):\n",
    "        x = F.relu(self.conv1(x))\n",
    "        x = self.batch_norm(x)\n",
    "        x = F.relu(self.conv2(x))\n",
    "        x = self.batch_norm(x)\n",
    "        return x"
   ]
  },
  {
   "cell_type": "code",
   "execution_count": 3,
   "metadata": {},
   "outputs": [],
   "source": [
    "class Unet(nn.Module):\n",
    "    def __init__(self):\n",
    "        super(Unet, self).__init__()\n",
    "        self.pool1 = nn.MaxPool2d(kernel_size=2)\n",
    "        self.pool2 = nn.MaxPool2d(kernel_size=2)\n",
    "        self.pool3 = nn.MaxPool2d(kernel_size=2)\n",
    "        self.pool4 = nn.MaxPool2d(kernel_size=2)\n",
    "        \n",
    "        self.up1 = nn.Upsample(scale_factor=2, mode='nearest')\n",
    "        self.up2 = nn.Upsample(scale_factor=2, mode='nearest')\n",
    "        self.up3 = nn.Upsample(scale_factor=2, mode='nearest')\n",
    "        self.up4 = nn.Upsample(scale_factor=2, mode='nearest')\n",
    "        \n",
    "        self.conv1 = ConvBlock(1, 32)\n",
    "        self.conv2 = ConvBlock(32, 64)\n",
    "        self.conv3 = ConvBlock(64, 128)\n",
    "        self.conv4 = ConvBlock(128, 256)\n",
    "        \n",
    "        self.conv5 = ConvBlock(256, 512)\n",
    "        \n",
    "        self.conv6 = ConvBlock(768, 256)\n",
    "        self.conv7 = ConvBlock(384, 128)\n",
    "        self.conv8 = ConvBlock(192, 64)\n",
    "        self.conv9 = ConvBlock(96, 32)\n",
    "        \n",
    "        self.conv10 = nn.Conv2d(32, 1, 1)\n",
    "        \n",
    "    def forward(self, x):\n",
    "        c1 = self.conv1(x)\n",
    "        x = self.pool1(c1)\n",
    "        c2 = self.conv2(x)\n",
    "        x = self.pool2(c2)\n",
    "        c3 = self.conv3(x)\n",
    "        x = self.pool3(c3)\n",
    "        c4 = self.conv4(x)\n",
    "        x = self.pool4(c4)\n",
    "        x = self.conv5(x)\n",
    "        x = self.up1(x)\n",
    "        x = torch.cat([x, c4], 1)\n",
    "        x = self.conv6(x)\n",
    "        x = self.up2(x)\n",
    "        x = torch.cat([x, c3], 1)\n",
    "        x = self.conv7(x)\n",
    "        x = self.up3(x)\n",
    "        x = torch.cat([x, c2], 1)\n",
    "        x = self.conv8(x)\n",
    "        x = self.up4(x)\n",
    "        x = torch.cat([x, c1], 1)\n",
    "        x = self.conv9(x)\n",
    "        x = self.conv10(x)\n",
    "        return x"
   ]
  }
 ],
 "metadata": {
  "kernelspec": {
   "display_name": "Python 3",
   "language": "python",
   "name": "python3"
  },
  "language_info": {
   "codemirror_mode": {
    "name": "ipython",
    "version": 3
   },
   "file_extension": ".py",
   "mimetype": "text/x-python",
   "name": "python",
   "nbconvert_exporter": "python",
   "pygments_lexer": "ipython3",
   "version": "3.6.5"
  }
 },
 "nbformat": 4,
 "nbformat_minor": 2
}
