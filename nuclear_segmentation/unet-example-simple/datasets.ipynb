{
 "cells": [
  {
   "cell_type": "code",
   "execution_count": 1,
   "metadata": {},
   "outputs": [],
   "source": [
    "import tifffile\n",
    "from torch.utils.data import Dataset\n",
    "import numpy as np"
   ]
  },
  {
   "cell_type": "code",
   "execution_count": 2,
   "metadata": {},
   "outputs": [],
   "source": [
    "class ISBI2012Dataset(Dataset):\n",
    "    \n",
    "    def __init__(self, path_img, path_target, transforms=None):\n",
    "        self.train = np.expand_dims(tifffile.TiffFile(path_img).asarray(), axis=-1)\n",
    "        self.targets = np.expand_dims(tifffile.TiffFile(path_target).asarray(), axis=-1)\n",
    "        self.transforms = transforms\n",
    "        \n",
    "    def __len__(self):\n",
    "        return len(self.train)\n",
    "    \n",
    "    def __getitem__(self, idx):\n",
    "        img = self.train[idx]\n",
    "        target = self.targets[idx]\n",
    "        \n",
    "        if self.transforms:\n",
    "            img = self.transforms(img)\n",
    "            target = self.transforms(target)\n",
    "            \n",
    "        return img, target"
   ]
  }
 ],
 "metadata": {
  "kernelspec": {
   "display_name": "Python 3",
   "language": "python",
   "name": "python3"
  },
  "language_info": {
   "codemirror_mode": {
    "name": "ipython",
    "version": 3
   },
   "file_extension": ".py",
   "mimetype": "text/x-python",
   "name": "python",
   "nbconvert_exporter": "python",
   "pygments_lexer": "ipython3",
   "version": "3.6.4"
  }
 },
 "nbformat": 4,
 "nbformat_minor": 2
}
