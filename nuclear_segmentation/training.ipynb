{
 "cells": [
  {
   "cell_type": "code",
   "execution_count": 1,
   "metadata": {},
   "outputs": [],
   "source": [
    "import argparse\n",
    "import logging\n",
    "import os\n",
    "\n",
    "import numpy as np\n",
    "import torch\n",
    "import torch.optim as optim\n",
    "from torch.autograd import Variable\n",
    "from tqdm import tqdm\n",
    "from train import train, train_and_evaluate\n",
    "import matplotlib.pyplot as plt\n",
    "\n",
    "import utils\n",
    "import model.net as net\n",
    "from  model.data_loader import  fetch_dataloader\n",
    "from evaluate import evaluate\n",
    "\n",
    "%load_ext autoreload\n",
    "%autoreload 2\n",
    "%matplotlib inline"
   ]
  },
  {
   "cell_type": "markdown",
   "metadata": {},
   "source": [
    "## Initial training"
   ]
  },
  {
   "cell_type": "markdown",
   "metadata": {},
   "source": [
    "Let's start with a simple model:\n",
    "\n",
    "- no augmentation (that is critical with such a small dataset);\n",
    "- default learning rate;\n",
    "- default optimizer (in the paper they use high momentum for a `batch_size = 1`); \n",
    "\n",
    "and so on."
   ]
  },
  {
   "cell_type": "code",
   "execution_count": 2,
   "metadata": {},
   "outputs": [],
   "source": [
    "model_dir = 'experiments/initial_model'\n",
    "json_path = os.path.join(model_dir, 'params.json')\n",
    "params = utils.Params(json_path)"
   ]
  },
  {
   "cell_type": "code",
   "execution_count": 3,
   "metadata": {},
   "outputs": [
    {
     "data": {
      "text/plain": [
       "{'learning_rate': 0.001,\n",
       " 'batch_size': 1,\n",
       " 'num_epochs': 25,\n",
       " 'save_summary_steps': 100,\n",
       " 'num_workers': 0}"
      ]
     },
     "execution_count": 3,
     "metadata": {},
     "output_type": "execute_result"
    }
   ],
   "source": [
    "params.dict"
   ]
  },
  {
   "cell_type": "code",
   "execution_count": 6,
   "metadata": {
    "scrolled": true
   },
   "outputs": [
    {
     "name": "stdout",
     "output_type": "stream",
     "text": [
      "Loading the datasets...\n",
      "- done.\n",
      "Starting training for 25 epoch(s)\n",
      "Epoch 1/25\n",
      "100%|███████████████████████████████| 25/25 [00:04<00:00,  5.16it/s, loss=0.481]\n",
      "- Train metrics: accuracy: 0.274 ; loss: 0.782\n",
      "- Eval metrics : accuracy: 0.801 ; loss: 0.490\n",
      "Checkpoint Directory exists! \n",
      "- Found new best accuracy\n",
      "Epoch 2/25\n",
      "100%|███████████████████████████████| 25/25 [00:02<00:00,  9.24it/s, loss=0.355]\n",
      "- Train metrics: accuracy: 0.861 ; loss: 0.383\n",
      "- Eval metrics : accuracy: 0.804 ; loss: 0.494\n",
      "Checkpoint Directory exists! \n",
      "- Found new best accuracy\n",
      "Epoch 3/25\n",
      "100%|███████████████████████████████| 25/25 [00:02<00:00,  9.18it/s, loss=0.295]\n",
      "- Train metrics: accuracy: 0.887 ; loss: 0.313\n",
      "- Eval metrics : accuracy: 0.804 ; loss: 0.503\n",
      "Checkpoint Directory exists! \n",
      "- Found new best accuracy\n",
      "Epoch 4/25\n",
      "100%|███████████████████████████████| 25/25 [00:02<00:00,  9.14it/s, loss=0.260]\n",
      "- Train metrics: accuracy: 0.915 ; loss: 0.250\n",
      "- Eval metrics : accuracy: 0.805 ; loss: 0.480\n",
      "Checkpoint Directory exists! \n",
      "- Found new best accuracy\n",
      "Epoch 5/25\n",
      "100%|███████████████████████████████| 25/25 [00:02<00:00,  9.08it/s, loss=0.236]\n",
      "- Train metrics: accuracy: 0.900 ; loss: 0.253\n",
      "- Eval metrics : accuracy: 0.813 ; loss: 0.508\n",
      "Checkpoint Directory exists! \n",
      "- Found new best accuracy\n",
      "Epoch 6/25\n",
      "100%|███████████████████████████████| 25/25 [00:02<00:00,  9.05it/s, loss=0.220]\n",
      "- Train metrics: accuracy: 0.925 ; loss: 0.220\n",
      "- Eval metrics : accuracy: 0.807 ; loss: 0.607\n",
      "Checkpoint Directory exists! \n",
      "Epoch 7/25\n",
      "100%|███████████████████████████████| 25/25 [00:02<00:00,  9.04it/s, loss=0.206]\n",
      "- Train metrics: accuracy: 0.914 ; loss: 0.212\n",
      "- Eval metrics : accuracy: 0.807 ; loss: 0.579\n",
      "Checkpoint Directory exists! \n",
      "Epoch 8/25\n",
      "100%|███████████████████████████████| 25/25 [00:02<00:00,  8.99it/s, loss=0.196]\n",
      "- Train metrics: accuracy: 0.938 ; loss: 0.173\n",
      "- Eval metrics : accuracy: 0.803 ; loss: 0.663\n",
      "Checkpoint Directory exists! \n",
      "Epoch 9/25\n",
      "100%|███████████████████████████████| 25/25 [00:02<00:00,  8.96it/s, loss=0.187]\n",
      "- Train metrics: accuracy: 0.916 ; loss: 0.210\n",
      "- Eval metrics : accuracy: 0.811 ; loss: 0.493\n",
      "Checkpoint Directory exists! \n",
      "Epoch 10/25\n",
      "100%|███████████████████████████████| 25/25 [00:02<00:00,  8.91it/s, loss=0.178]\n",
      "- Train metrics: accuracy: 0.921 ; loss: 0.184\n",
      "- Eval metrics : accuracy: 0.804 ; loss: 0.542\n",
      "Checkpoint Directory exists! \n",
      "Epoch 11/25\n",
      "100%|███████████████████████████████| 25/25 [00:02<00:00,  8.87it/s, loss=0.172]\n",
      "- Train metrics: accuracy: 0.934 ; loss: 0.159\n",
      "- Eval metrics : accuracy: 0.801 ; loss: 0.627\n",
      "Checkpoint Directory exists! \n",
      "Epoch 12/25\n",
      "100%|███████████████████████████████| 25/25 [00:02<00:00,  8.82it/s, loss=0.168]\n",
      "- Train metrics: accuracy: 0.931 ; loss: 0.162\n",
      "- Eval metrics : accuracy: 0.823 ; loss: 0.459\n",
      "Checkpoint Directory exists! \n",
      "- Found new best accuracy\n",
      "Epoch 13/25\n",
      "100%|███████████████████████████████| 25/25 [00:02<00:00,  8.79it/s, loss=0.162]\n",
      "- Train metrics: accuracy: 0.937 ; loss: 0.147\n",
      "- Eval metrics : accuracy: 0.813 ; loss: 0.522\n",
      "Checkpoint Directory exists! \n",
      "Epoch 14/25\n",
      "100%|███████████████████████████████| 25/25 [00:02<00:00,  8.76it/s, loss=0.157]\n",
      "- Train metrics: accuracy: 0.941 ; loss: 0.139\n",
      "- Eval metrics : accuracy: 0.818 ; loss: 0.497\n",
      "Checkpoint Directory exists! \n",
      "Epoch 15/25\n",
      "100%|███████████████████████████████| 25/25 [00:02<00:00,  8.73it/s, loss=0.158]\n",
      "- Train metrics: accuracy: 0.934 ; loss: 0.156\n",
      "- Eval metrics : accuracy: 0.534 ; loss: 0.664\n",
      "Checkpoint Directory exists! \n",
      "Epoch 16/25\n",
      "100%|███████████████████████████████| 25/25 [00:02<00:00,  8.70it/s, loss=0.150]\n",
      "- Train metrics: accuracy: 0.939 ; loss: 0.143\n",
      "- Eval metrics : accuracy: 0.809 ; loss: 0.557\n",
      "Checkpoint Directory exists! \n",
      "Epoch 17/25\n",
      "100%|███████████████████████████████| 25/25 [00:02<00:00,  8.64it/s, loss=0.143]\n",
      "- Train metrics: accuracy: 0.936 ; loss: 0.135\n",
      "- Eval metrics : accuracy: 0.818 ; loss: 0.535\n",
      "Checkpoint Directory exists! \n",
      "Epoch 18/25\n",
      "100%|███████████████████████████████| 25/25 [00:02<00:00,  8.62it/s, loss=0.137]\n",
      "- Train metrics: accuracy: 0.934 ; loss: 0.166\n",
      "- Eval metrics : accuracy: 0.824 ; loss: 0.489\n",
      "Checkpoint Directory exists! \n",
      "- Found new best accuracy\n",
      "Epoch 19/25\n",
      "100%|███████████████████████████████| 25/25 [00:02<00:00,  8.58it/s, loss=0.137]\n",
      "- Train metrics: accuracy: 0.943 ; loss: 0.138\n",
      "- Eval metrics : accuracy: 0.825 ; loss: 0.484\n",
      "Checkpoint Directory exists! \n",
      "- Found new best accuracy\n",
      "Epoch 20/25\n",
      "100%|███████████████████████████████| 25/25 [00:02<00:00,  8.55it/s, loss=0.132]\n",
      "- Train metrics: accuracy: 0.939 ; loss: 0.120\n",
      "- Eval metrics : accuracy: 0.836 ; loss: 0.457\n",
      "Checkpoint Directory exists! \n",
      "- Found new best accuracy\n",
      "Epoch 21/25\n",
      "100%|███████████████████████████████| 25/25 [00:02<00:00,  8.49it/s, loss=0.127]\n",
      "- Train metrics: accuracy: 0.942 ; loss: 0.136\n",
      "- Eval metrics : accuracy: 0.818 ; loss: 0.506\n",
      "Checkpoint Directory exists! \n",
      "Epoch 22/25\n",
      "100%|███████████████████████████████| 25/25 [00:02<00:00,  8.45it/s, loss=0.127]\n",
      "- Train metrics: accuracy: 0.937 ; loss: 0.122\n",
      "- Eval metrics : accuracy: 0.818 ; loss: 0.517\n",
      "Checkpoint Directory exists! \n",
      "Epoch 23/25\n",
      "100%|███████████████████████████████| 25/25 [00:02<00:00,  8.39it/s, loss=0.122]\n",
      "- Train metrics: accuracy: 0.945 ; loss: 0.110\n",
      "- Eval metrics : accuracy: 0.813 ; loss: 0.557\n",
      "Checkpoint Directory exists! \n",
      "Epoch 24/25\n",
      "100%|███████████████████████████████| 25/25 [00:03<00:00,  8.33it/s, loss=0.117]\n",
      "- Train metrics: accuracy: 0.947 ; loss: 0.121\n",
      "- Eval metrics : accuracy: 0.835 ; loss: 0.476\n",
      "Checkpoint Directory exists! \n",
      "Epoch 25/25\n",
      "100%|███████████████████████████████| 25/25 [00:03<00:00,  8.31it/s, loss=0.112]\n",
      "- Train metrics: accuracy: 0.950 ; loss: 0.105\n",
      "- Eval metrics : accuracy: 0.816 ; loss: 0.628\n",
      "Checkpoint Directory exists! \n"
     ]
    }
   ],
   "source": [
    "!python3 train.py --model_dir 'experiments/initial_model'"
   ]
  },
  {
   "cell_type": "code",
   "execution_count": null,
   "metadata": {},
   "outputs": [],
   "source": []
  },
  {
   "cell_type": "code",
   "execution_count": null,
   "metadata": {},
   "outputs": [],
   "source": []
  },
  {
   "cell_type": "code",
   "execution_count": null,
   "metadata": {},
   "outputs": [],
   "source": []
  },
  {
   "cell_type": "code",
   "execution_count": null,
   "metadata": {},
   "outputs": [],
   "source": []
  },
  {
   "cell_type": "code",
   "execution_count": null,
   "metadata": {},
   "outputs": [],
   "source": []
  },
  {
   "cell_type": "code",
   "execution_count": null,
   "metadata": {},
   "outputs": [],
   "source": []
  },
  {
   "cell_type": "code",
   "execution_count": null,
   "metadata": {},
   "outputs": [],
   "source": []
  },
  {
   "cell_type": "code",
   "execution_count": null,
   "metadata": {},
   "outputs": [],
   "source": []
  },
  {
   "cell_type": "code",
   "execution_count": null,
   "metadata": {},
   "outputs": [],
   "source": []
  },
  {
   "cell_type": "code",
   "execution_count": null,
   "metadata": {},
   "outputs": [],
   "source": []
  },
  {
   "cell_type": "code",
   "execution_count": null,
   "metadata": {},
   "outputs": [],
   "source": []
  },
  {
   "cell_type": "code",
   "execution_count": null,
   "metadata": {},
   "outputs": [],
   "source": []
  },
  {
   "cell_type": "code",
   "execution_count": null,
   "metadata": {},
   "outputs": [],
   "source": []
  },
  {
   "cell_type": "code",
   "execution_count": null,
   "metadata": {},
   "outputs": [],
   "source": []
  },
  {
   "cell_type": "code",
   "execution_count": null,
   "metadata": {},
   "outputs": [],
   "source": []
  },
  {
   "cell_type": "code",
   "execution_count": null,
   "metadata": {},
   "outputs": [],
   "source": []
  },
  {
   "cell_type": "code",
   "execution_count": null,
   "metadata": {},
   "outputs": [],
   "source": []
  },
  {
   "cell_type": "code",
   "execution_count": null,
   "metadata": {},
   "outputs": [],
   "source": []
  },
  {
   "cell_type": "code",
   "execution_count": null,
   "metadata": {},
   "outputs": [],
   "source": []
  },
  {
   "cell_type": "code",
   "execution_count": null,
   "metadata": {},
   "outputs": [],
   "source": []
  },
  {
   "cell_type": "code",
   "execution_count": null,
   "metadata": {},
   "outputs": [],
   "source": []
  },
  {
   "cell_type": "code",
   "execution_count": null,
   "metadata": {},
   "outputs": [],
   "source": []
  },
  {
   "cell_type": "code",
   "execution_count": null,
   "metadata": {},
   "outputs": [],
   "source": []
  },
  {
   "cell_type": "code",
   "execution_count": null,
   "metadata": {},
   "outputs": [],
   "source": []
  },
  {
   "cell_type": "code",
   "execution_count": null,
   "metadata": {},
   "outputs": [],
   "source": []
  },
  {
   "cell_type": "code",
   "execution_count": null,
   "metadata": {},
   "outputs": [],
   "source": []
  },
  {
   "cell_type": "code",
   "execution_count": null,
   "metadata": {},
   "outputs": [],
   "source": []
  }
 ],
 "metadata": {
  "kernelspec": {
   "display_name": "Python 3",
   "language": "python",
   "name": "python3"
  },
  "language_info": {
   "codemirror_mode": {
    "name": "ipython",
    "version": 3
   },
   "file_extension": ".py",
   "mimetype": "text/x-python",
   "name": "python",
   "nbconvert_exporter": "python",
   "pygments_lexer": "ipython3",
   "version": "3.6.8"
  }
 },
 "nbformat": 4,
 "nbformat_minor": 2
}
