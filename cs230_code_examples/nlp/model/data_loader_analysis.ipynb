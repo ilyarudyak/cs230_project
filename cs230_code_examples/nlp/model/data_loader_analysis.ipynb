{
 "cells": [
  {
   "cell_type": "code",
   "execution_count": null,
   "metadata": {},
   "outputs": [],
   "source": []
  },
  {
   "cell_type": "markdown",
   "metadata": {},
   "source": [
    "### build kaggle dataset"
   ]
  },
  {
   "cell_type": "markdown",
   "metadata": {},
   "source": [
    "Initially we have only `ner_dataset.csv` in `data/kaggle` and run `python3 build_kaggle_dataset.py`. The structure of files are presented below. We just unrolled sentences and labels and put them into separate files."
   ]
  },
  {
   "cell_type": "code",
   "execution_count": 4,
   "metadata": {},
   "outputs": [
    {
     "name": "stdout",
     "output_type": "stream",
     "text": [
      "\u001b[01;34m.\u001b[00m\r\n",
      "├── \u001b[01;32mner_dataset.csv\u001b[00m\r\n",
      "├── \u001b[01;34mtest\u001b[00m\r\n",
      "│   ├── labels.txt\r\n",
      "│   └── sentences.txt\r\n",
      "├── \u001b[01;34mtrain\u001b[00m\r\n",
      "│   ├── labels.txt\r\n",
      "│   └── sentences.txt\r\n",
      "└── \u001b[01;34mval\u001b[00m\r\n",
      "    ├── labels.txt\r\n",
      "    └── sentences.txt\r\n",
      "\r\n",
      "3 directories, 7 files\r\n"
     ]
    }
   ],
   "source": [
    "!tree ."
   ]
  },
  {
   "cell_type": "code",
   "execution_count": 8,
   "metadata": {},
   "outputs": [
    {
     "name": "stdout",
     "output_type": "stream",
     "text": [
      "Sentence #,Word,POS,Tag\r",
      "\r\n",
      "Sentence: 1,Thousands,NNS,O\r",
      "\r\n",
      ",of,IN,O\r",
      "\r\n",
      ",demonstrators,NNS,O\r",
      "\r\n",
      ",have,VBP,O\r",
      "\r\n",
      ",marched,VBN,O\r",
      "\r\n",
      ",through,IN,O\r",
      "\r\n",
      ",London,NNP,B-geo\r",
      "\r\n",
      ",to,TO,O\r",
      "\r\n",
      ",protest,VB,O\r",
      "\r\n",
      ",the,DT,O\r",
      "\r\n",
      ",war,NN,O\r",
      "\r\n",
      ",in,IN,O\r",
      "\r\n",
      ",Iraq,NNP,B-geo\r",
      "\r\n",
      ",and,CC,O\r",
      "\r\n",
      ",demand,VB,O\r",
      "\r\n",
      ",the,DT,O\r",
      "\r\n",
      ",withdrawal,NN,O\r",
      "\r\n",
      ",of,IN,O\r",
      "\r\n",
      ",British,JJ,B-gpe\r",
      "\r\n",
      ",troops,NNS,O\r",
      "\r\n",
      ",from,IN,O\r",
      "\r\n",
      ",that,DT,O\r",
      "\r\n",
      ",country,NN,O\r",
      "\r\n",
      ",.,.,O\r",
      "\r\n",
      "Sentence: 2,Families,NNS,O\r",
      "\r\n",
      ",of,IN,O\r",
      "\r\n",
      ",soldiers,NNS,O\r",
      "\r\n",
      ",killed,VBN,O\r",
      "\r\n",
      ",in,IN,O\r",
      "\r\n"
     ]
    }
   ],
   "source": [
    "!head -30 ner_dataset.csv"
   ]
  },
  {
   "cell_type": "code",
   "execution_count": 11,
   "metadata": {},
   "outputs": [
    {
     "name": "stdout",
     "output_type": "stream",
     "text": [
      "Thousands of demonstrators have marched through London to protest the war in Iraq and demand the withdrawal of British troops from that country .\r\n"
     ]
    }
   ],
   "source": [
    "!head -1 train/sentences.txt"
   ]
  },
  {
   "cell_type": "code",
   "execution_count": 12,
   "metadata": {},
   "outputs": [
    {
     "name": "stdout",
     "output_type": "stream",
     "text": [
      "O O O O O O B-geo O O O O O B-geo O O O O O B-gpe O O O O O\r\n"
     ]
    }
   ],
   "source": [
    "!head -1 train/labels.txt"
   ]
  },
  {
   "cell_type": "code",
   "execution_count": 14,
   "metadata": {},
   "outputs": [
    {
     "name": "stdout",
     "output_type": "stream",
     "text": [
      "   33570\r\n"
     ]
    }
   ],
   "source": [
    "! cat train/sentences.txt | wc -l"
   ]
  },
  {
   "cell_type": "code",
   "execution_count": 15,
   "metadata": {},
   "outputs": [
    {
     "name": "stdout",
     "output_type": "stream",
     "text": [
      "   33570\r\n"
     ]
    }
   ],
   "source": [
    "! cat train/labels.txt | wc -l"
   ]
  },
  {
   "cell_type": "code",
   "execution_count": null,
   "metadata": {},
   "outputs": [],
   "source": []
  },
  {
   "cell_type": "code",
   "execution_count": null,
   "metadata": {},
   "outputs": [],
   "source": []
  },
  {
   "cell_type": "code",
   "execution_count": null,
   "metadata": {},
   "outputs": [],
   "source": []
  },
  {
   "cell_type": "code",
   "execution_count": null,
   "metadata": {},
   "outputs": [],
   "source": []
  },
  {
   "cell_type": "code",
   "execution_count": null,
   "metadata": {},
   "outputs": [],
   "source": []
  },
  {
   "cell_type": "code",
   "execution_count": null,
   "metadata": {},
   "outputs": [],
   "source": []
  },
  {
   "cell_type": "code",
   "execution_count": null,
   "metadata": {},
   "outputs": [],
   "source": []
  },
  {
   "cell_type": "code",
   "execution_count": null,
   "metadata": {},
   "outputs": [],
   "source": []
  },
  {
   "cell_type": "code",
   "execution_count": null,
   "metadata": {},
   "outputs": [],
   "source": []
  },
  {
   "cell_type": "code",
   "execution_count": null,
   "metadata": {},
   "outputs": [],
   "source": []
  },
  {
   "cell_type": "code",
   "execution_count": null,
   "metadata": {},
   "outputs": [],
   "source": []
  }
 ],
 "metadata": {
  "kernelspec": {
   "display_name": "Python 3",
   "language": "python",
   "name": "python3"
  },
  "language_info": {
   "codemirror_mode": {
    "name": "ipython",
    "version": 3
   },
   "file_extension": ".py",
   "mimetype": "text/x-python",
   "name": "python",
   "nbconvert_exporter": "python",
   "pygments_lexer": "ipython3",
   "version": "3.6.8"
  }
 },
 "nbformat": 4,
 "nbformat_minor": 2
}
