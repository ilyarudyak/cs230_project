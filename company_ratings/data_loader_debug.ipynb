{
 "cells": [
  {
   "cell_type": "code",
   "execution_count": 193,
   "metadata": {},
   "outputs": [
    {
     "name": "stdout",
     "output_type": "stream",
     "text": [
      "The autoreload extension is already loaded. To reload it, use:\n",
      "  %reload_ext autoreload\n"
     ]
    }
   ],
   "source": [
    "from data_prep.data_loader import * \n",
    "\n",
    "%load_ext autoreload\n",
    "%autoreload 2"
   ]
  },
  {
   "cell_type": "markdown",
   "metadata": {},
   "source": [
    "### constructor"
   ]
  },
  {
   "cell_type": "code",
   "execution_count": 194,
   "metadata": {},
   "outputs": [],
   "source": [
    "params_path = 'data/5w/dataset_params.json'\n",
    "params = utils.Params(params_path)\n",
    "data_dir = 'data/5w'"
   ]
  },
  {
   "cell_type": "code",
   "execution_count": 195,
   "metadata": {},
   "outputs": [],
   "source": [
    "dl = DataLoader(data_dir, params)"
   ]
  },
  {
   "cell_type": "code",
   "execution_count": 196,
   "metadata": {},
   "outputs": [
    {
     "data": {
      "text/plain": [
       "2697"
      ]
     },
     "execution_count": 196,
     "metadata": {},
     "output_type": "execute_result"
    }
   ],
   "source": [
    "len(dl.vocab)"
   ]
  },
  {
   "cell_type": "code",
   "execution_count": 197,
   "metadata": {},
   "outputs": [
    {
     "name": "stdout",
     "output_type": "stream",
     "text": [
      "best\r\n",
      "company\r\n",
      "to\r\n",
      "work\r\n",
      "for\r\n",
      "moving\r\n",
      "at\r\n",
      "the\r\n",
      "speed\r\n",
      "of\r\n"
     ]
    }
   ],
   "source": [
    "!head -10 data/5w/words.txt"
   ]
  },
  {
   "cell_type": "code",
   "execution_count": 198,
   "metadata": {},
   "outputs": [
    {
     "data": {
      "text/plain": [
       "[('best', 0),\n",
       " ('company', 1),\n",
       " ('to', 2),\n",
       " ('work', 3),\n",
       " ('for', 4),\n",
       " ('moving', 5),\n",
       " ('at', 6),\n",
       " ('the', 7),\n",
       " ('speed', 8),\n",
       " ('of', 9)]"
      ]
     },
     "execution_count": 198,
     "metadata": {},
     "output_type": "execute_result"
    }
   ],
   "source": [
    "list(dl.vocab.items())[:10]"
   ]
  },
  {
   "cell_type": "code",
   "execution_count": 199,
   "metadata": {},
   "outputs": [
    {
     "name": "stdout",
     "output_type": "stream",
     "text": [
      "tsp\r\n",
      "stu\r\n",
      "idc\r\n",
      "regional\r\n",
      "gtsc\r\n",
      "romania\r\n",
      "locally\r\n",
      "timings\r\n",
      "<pad>\r\n",
      "UNK\r\n"
     ]
    }
   ],
   "source": [
    "!tail -10 data/5w/words.txt"
   ]
  },
  {
   "cell_type": "code",
   "execution_count": 200,
   "metadata": {},
   "outputs": [
    {
     "data": {
      "text/plain": [
       "[('tsp', 2687),\n",
       " ('stu', 2688),\n",
       " ('idc', 2689),\n",
       " ('regional', 2690),\n",
       " ('gtsc', 2691),\n",
       " ('romania', 2692),\n",
       " ('locally', 2693),\n",
       " ('timings', 2694),\n",
       " ('<pad>', 2695),\n",
       " ('UNK', 2696)]"
      ]
     },
     "execution_count": 200,
     "metadata": {},
     "output_type": "execute_result"
    }
   ],
   "source": [
    "list(dl.vocab.items())[-10:]"
   ]
  },
  {
   "cell_type": "code",
   "execution_count": 201,
   "metadata": {},
   "outputs": [
    {
     "data": {
      "text/plain": [
       "(2695, 2696)"
      ]
     },
     "execution_count": 201,
     "metadata": {},
     "output_type": "execute_result"
    }
   ],
   "source": [
    "dl.pad_ind, dl.unk_ind"
   ]
  },
  {
   "cell_type": "code",
   "execution_count": 202,
   "metadata": {},
   "outputs": [
    {
     "data": {
      "text/plain": [
       "{'0': 0, '1': 1}"
      ]
     },
     "execution_count": 202,
     "metadata": {},
     "output_type": "execute_result"
    }
   ],
   "source": [
    "dl.tag_map"
   ]
  },
  {
   "cell_type": "markdown",
   "metadata": {},
   "source": [
    "### load sentences labels"
   ]
  },
  {
   "cell_type": "code",
   "execution_count": 203,
   "metadata": {},
   "outputs": [],
   "source": [
    "d = {}\n",
    "review_file = 'data/5w/train/review.txt'\n",
    "rating_file = 'data/5w/train/rating.txt'"
   ]
  },
  {
   "cell_type": "code",
   "execution_count": 204,
   "metadata": {},
   "outputs": [],
   "source": [
    "dl.load_sentences_labels(review_file, rating_file, d)"
   ]
  },
  {
   "cell_type": "code",
   "execution_count": 205,
   "metadata": {},
   "outputs": [
    {
     "name": "stdout",
     "output_type": "stream",
     "text": [
      "dict_keys(['data', 'labels', 'size'])\n",
      "[[0, 1, 2, 3, 4], [5, 6, 7, 8, 9, 10, 11, 12, 13, 14, 2696], [15, 16, 17, 18, 1, 19, 20, 21, 11, 22, 5, 23], [7, 0, 24, 25, 26, 20, 27, 7, 28, 29, 30], [31, 11, 32, 9, 33, 34, 35, 36]]\n"
     ]
    }
   ],
   "source": [
    "print(d.keys())\n",
    "print(d['data'][:5])"
   ]
  },
  {
   "cell_type": "code",
   "execution_count": 206,
   "metadata": {},
   "outputs": [
    {
     "name": "stdout",
     "output_type": "stream",
     "text": [
      "best company to work for\r\n",
      "\"moving at the speed of light , burn out is inevitable\"\r\n",
      "\"great balance between big company security and fun , fast moving projects\"\r\n"
     ]
    }
   ],
   "source": [
    "!head -3 data/5w/train/review.txt"
   ]
  },
  {
   "cell_type": "code",
   "execution_count": 207,
   "metadata": {},
   "outputs": [
    {
     "data": {
      "text/plain": [
       "False"
      ]
     },
     "execution_count": 207,
     "metadata": {},
     "output_type": "execute_result"
    }
   ],
   "source": [
    "# let's check that 'inevitable' is NOT in vocabulary\n",
    "# it's encoded as 2696 'UNK' above\n",
    "'inevitable' in dl.vocab"
   ]
  },
  {
   "cell_type": "code",
   "execution_count": 208,
   "metadata": {},
   "outputs": [
    {
     "data": {
      "text/plain": [
       "[15, 16, 17, 18, 1, 19, 20, 21, 11, 22, 5, 23]"
      ]
     },
     "execution_count": 208,
     "metadata": {},
     "output_type": "execute_result"
    }
   ],
   "source": [
    "# let's also check that the 3d review is encoded correctly\n",
    "s = \"great balance between big company security and fun , fast moving projects\"\n",
    "[dl.vocab[word] for word in s.split()]"
   ]
  },
  {
   "cell_type": "code",
   "execution_count": 209,
   "metadata": {},
   "outputs": [
    {
     "name": "stdout",
     "output_type": "stream",
     "text": [
      "[[0, 1], [0, 1], [0, 1], [0, 1], [0, 1], [0, 1], [0, 1], [0, 1], [0, 1], [0, 1], [0, 1], [0, 1], [0, 1], [0, 1], [0, 1], [0, 1], [0, 1], [0, 1], [1, 0], [0, 1]]\n"
     ]
    }
   ],
   "source": [
    "# labels are one-hot encoded\n",
    "print(d['labels'][:20])"
   ]
  },
  {
   "cell_type": "code",
   "execution_count": 210,
   "metadata": {},
   "outputs": [
    {
     "name": "stdout",
     "output_type": "stream",
     "text": [
      "1\r\n",
      "1\r\n",
      "1\r\n",
      "1\r\n",
      "1\r\n",
      "1\r\n",
      "1\r\n",
      "1\r\n",
      "1\r\n",
      "1\r\n",
      "1\r\n",
      "1\r\n",
      "1\r\n",
      "1\r\n",
      "1\r\n",
      "1\r\n",
      "1\r\n",
      "1\r\n",
      "0\r\n",
      "1\r\n"
     ]
    }
   ],
   "source": [
    "!head -20 data/5w/train/rating.txt"
   ]
  },
  {
   "cell_type": "code",
   "execution_count": 211,
   "metadata": {},
   "outputs": [],
   "source": [
    "# let's load train and val data\n",
    "types = ['train', 'val']\n",
    "data = dl.load_data(types, data_dir)"
   ]
  },
  {
   "cell_type": "code",
   "execution_count": 212,
   "metadata": {},
   "outputs": [
    {
     "data": {
      "text/plain": [
       "dict_keys(['train', 'val'])"
      ]
     },
     "execution_count": 212,
     "metadata": {},
     "output_type": "execute_result"
    }
   ],
   "source": [
    "data.keys()"
   ]
  },
  {
   "cell_type": "code",
   "execution_count": 213,
   "metadata": {},
   "outputs": [
    {
     "data": {
      "text/plain": [
       "dict_keys(['data', 'labels', 'size'])"
      ]
     },
     "execution_count": 213,
     "metadata": {},
     "output_type": "execute_result"
    }
   ],
   "source": [
    "data['train'].keys()"
   ]
  },
  {
   "cell_type": "code",
   "execution_count": 214,
   "metadata": {},
   "outputs": [
    {
     "data": {
      "text/plain": [
       "[[0, 1, 2, 3, 4],\n",
       " [5, 6, 7, 8, 9, 10, 11, 12, 13, 14, 2696],\n",
       " [15, 16, 17, 18, 1, 19, 20, 21, 11, 22, 5, 23],\n",
       " [7, 0, 24, 25, 26, 20, 27, 7, 28, 29, 30],\n",
       " [31, 11, 32, 9, 33, 34, 35, 36]]"
      ]
     },
     "execution_count": 214,
     "metadata": {},
     "output_type": "execute_result"
    }
   ],
   "source": [
    "# that's the same as above\n",
    "data['train']['data'][:5]"
   ]
  },
  {
   "cell_type": "markdown",
   "metadata": {},
   "source": [
    "### data iterator"
   ]
  },
  {
   "cell_type": "code",
   "execution_count": 224,
   "metadata": {},
   "outputs": [],
   "source": [
    "dl2 = DataLoader(data_dir, params)\n",
    "data2 = dl2.load_data(types, data_dir)"
   ]
  },
  {
   "cell_type": "code",
   "execution_count": 225,
   "metadata": {},
   "outputs": [],
   "source": [
    "params_path = 'experiments/base_model/params.json'\n",
    "model_params = utils.Params(params_path)"
   ]
  },
  {
   "cell_type": "code",
   "execution_count": 226,
   "metadata": {},
   "outputs": [],
   "source": [
    "it2 = dl2.data_iterator(data2['train'], model_params)"
   ]
  },
  {
   "cell_type": "code",
   "execution_count": 227,
   "metadata": {},
   "outputs": [],
   "source": [
    "batch_reviews_pad, batch_labels = next(it2)"
   ]
  },
  {
   "cell_type": "code",
   "execution_count": 229,
   "metadata": {},
   "outputs": [
    {
     "data": {
      "text/plain": [
       "(torch.Size([32, 10]), torch.Size([32, 2]))"
      ]
     },
     "execution_count": 229,
     "metadata": {},
     "output_type": "execute_result"
    }
   ],
   "source": [
    "batch_reviews_pad.shape, batch_labels.shape"
   ]
  },
  {
   "cell_type": "code",
   "execution_count": 231,
   "metadata": {},
   "outputs": [
    {
     "data": {
      "text/plain": [
       "[[0, 1, 2, 3, 4],\n",
       " [5, 6, 7, 8, 9, 10, 11, 12, 13, 14, 2696],\n",
       " [15, 16, 17, 18, 1, 19, 20, 21, 11, 22, 5, 23],\n",
       " [7, 0, 24, 25, 26, 20, 27, 7, 28, 29, 30],\n",
       " [31, 11, 32, 9, 33, 34, 35, 36]]"
      ]
     },
     "execution_count": 231,
     "metadata": {},
     "output_type": "execute_result"
    }
   ],
   "source": [
    "# let's check that we pad or truncate reviews correctly\n",
    "data2['train']['data'][:5]"
   ]
  },
  {
   "cell_type": "code",
   "execution_count": 233,
   "metadata": {},
   "outputs": [
    {
     "data": {
      "text/plain": [
       "[5, 11, 12, 11, 8]"
      ]
     },
     "execution_count": 233,
     "metadata": {},
     "output_type": "execute_result"
    }
   ],
   "source": [
    "[len(review) for review in data2['train']['data'][:5]]"
   ]
  },
  {
   "cell_type": "code",
   "execution_count": 235,
   "metadata": {},
   "outputs": [
    {
     "data": {
      "text/plain": [
       "2695"
      ]
     },
     "execution_count": 235,
     "metadata": {},
     "output_type": "execute_result"
    }
   ],
   "source": [
    "dl2.pad_ind"
   ]
  },
  {
   "cell_type": "code",
   "execution_count": 232,
   "metadata": {},
   "outputs": [
    {
     "data": {
      "text/plain": [
       "tensor([[   0,    1,    2,    3,    4, 2695, 2695, 2695, 2695, 2695],\n",
       "        [   5,    6,    7,    8,    9,   10,   11,   12,   13,   14],\n",
       "        [  15,   16,   17,   18,    1,   19,   20,   21,   11,   22],\n",
       "        [   7,    0,   24,   25,   26,   20,   27,    7,   28,   29],\n",
       "        [  31,   11,   32,    9,   33,   34,   35,   36, 2695, 2695]])"
      ]
     },
     "execution_count": 232,
     "metadata": {},
     "output_type": "execute_result"
    }
   ],
   "source": [
    "batch_reviews_pad[:5, :]"
   ]
  },
  {
   "cell_type": "code",
   "execution_count": 237,
   "metadata": {},
   "outputs": [
    {
     "data": {
      "text/plain": [
       "tensor([[0, 1],\n",
       "        [0, 1],\n",
       "        [0, 1],\n",
       "        [0, 1],\n",
       "        [0, 1],\n",
       "        [0, 1],\n",
       "        [0, 1],\n",
       "        [0, 1],\n",
       "        [0, 1],\n",
       "        [0, 1],\n",
       "        [0, 1],\n",
       "        [0, 1],\n",
       "        [0, 1],\n",
       "        [0, 1],\n",
       "        [0, 1],\n",
       "        [0, 1],\n",
       "        [0, 1],\n",
       "        [0, 1],\n",
       "        [1, 0],\n",
       "        [0, 1]])"
      ]
     },
     "execution_count": 237,
     "metadata": {},
     "output_type": "execute_result"
    }
   ],
   "source": [
    "# finally let's check labels\n",
    "# we know that batch_labels[19, :] is [1, 0]\n",
    "batch_labels[:20, :]"
   ]
  },
  {
   "cell_type": "markdown",
   "metadata": {},
   "source": [
    "Looks like our `data_loader` works. Time to proceed with the model."
   ]
  },
  {
   "cell_type": "code",
   "execution_count": null,
   "metadata": {},
   "outputs": [],
   "source": []
  },
  {
   "cell_type": "code",
   "execution_count": null,
   "metadata": {},
   "outputs": [],
   "source": []
  }
 ],
 "metadata": {
  "kernelspec": {
   "display_name": "Python 3",
   "language": "python",
   "name": "python3"
  },
  "language_info": {
   "codemirror_mode": {
    "name": "ipython",
    "version": 3
   },
   "file_extension": ".py",
   "mimetype": "text/x-python",
   "name": "python",
   "nbconvert_exporter": "python",
   "pygments_lexer": "ipython3",
   "version": "3.6.9"
  }
 },
 "nbformat": 4,
 "nbformat_minor": 2
}
